{
 "cells": [
  {
   "cell_type": "markdown",
   "metadata": {},
   "source": [
    "## 1. HTMLExporter with figs"
   ]
  },
  {
   "cell_type": "code",
   "execution_count": 1,
   "metadata": {
    "collapsed": false
   },
   "outputs": [],
   "source": [
    "import nbformat\n",
    "nb_raw = \"\"\n",
    "with open(\"fibonaccistretch.ipynb\", \"r\") as f:\n",
    "    nb_raw = f.read()\n",
    "nb = nbformat.reads(nb_raw, as_version=4)"
   ]
  },
  {
   "cell_type": "code",
   "execution_count": 2,
   "metadata": {
    "collapsed": false
   },
   "outputs": [
    {
     "name": "stdout",
     "output_type": "stream",
     "text": [
      "{u'source': u\"Note that both the music notation and the array are **symbolic** representations of the rhythm; the rhythm is abstracted so that there is no information about tempo, dynamics, timbre, or other musical information. All we have is the temporal relationship between each note in the sequence (as well as the base assumption that the notes are evenly spaced).\\n\\nLet's hear (and visualize) an example of how this rhythm sounds in more concrete terms:\", u'cell_type': u'markdown', u'metadata': {}}\n"
     ]
    }
   ],
   "source": [
    "str(nb.cells[6])[:1000]\n",
    "print(str(nb.cells[12])[:2000])\n",
    "# nb.cells[12]"
   ]
  },
  {
   "cell_type": "code",
   "execution_count": 3,
   "metadata": {
    "collapsed": true
   },
   "outputs": [],
   "source": [
    "# from traitlets.config import Config\n",
    "\n",
    "# # 1. Import the exporter\n",
    "# from nbconvert import HTMLExporter\n",
    "\n",
    "# # 2. Instantiate the exporter. We use the `basic` template for now; we'll get into more details\n",
    "# # later about how to customize the exporter further.\n",
    "# html_exporter = HTMLExporter()\n",
    "# html_exporter.template_file = 'basic'\n",
    "\n",
    "# # 3. Process the notebook we loaded earlier\n",
    "# (body, resources) = html_exporter.from_notebook_node(jake_notebook)"
   ]
  },
  {
   "cell_type": "code",
   "execution_count": 4,
   "metadata": {
    "collapsed": false
   },
   "outputs": [
    {
     "data": {
      "text/plain": [
       "['nbconvert.preprocessors.ExtractOutputPreprocessor']"
      ]
     },
     "execution_count": 4,
     "metadata": {},
     "output_type": "execute_result"
    }
   ],
   "source": [
    "# create a configuration object that changes the preprocessors\n",
    "from traitlets.config import Config\n",
    "from nbconvert import HTMLExporter\n",
    "\n",
    "c = Config()\n",
    "c.HTMLExporter.preprocessors = ['nbconvert.preprocessors.ExtractOutputPreprocessor']\n",
    "\n",
    "# create the new exporter using the custom config\n",
    "html_exporter_with_figs = HTMLExporter(config=c)\n",
    "html_exporter_with_figs.preprocessors"
   ]
  },
  {
   "cell_type": "code",
   "execution_count": 5,
   "metadata": {
    "collapsed": false
   },
   "outputs": [
    {
     "name": "stdout",
     "output_type": "stream",
     "text": [
      "\n",
      "resources with extracted figures (notice that there's one more field called 'outputs'):\n",
      "['inlining', 'metadata', 'output_extension', 'outputs', 'raw_mimetypes']\n",
      "\n",
      "the actual figures are:\n",
      "[u'output_112_1.png', u'output_114_1.png', u'output_119_1.png', u'output_122_1.png', u'output_124_1.png', u'output_127_1.png', u'output_129_1.png', u'output_131_1.png', u'output_134_1.png', u'output_136_1.png', u'output_13_1.png', u'output_17_2.png', u'output_24_1.png', u'output_26_1.png', u'output_31_1.png', u'output_37_0.png', u'output_37_1.png', u'output_37_2.png', u'output_37_3.png', u'output_43_1.png', u'output_50_1.png', u'output_58_1.png', u'output_64_1.png', u'output_66_1.png', u'output_79_1.png', u'output_84_1.png']\n"
     ]
    }
   ],
   "source": [
    "(body, resources) = html_exporter_with_figs.from_notebook_node(nb)\n",
    "\n",
    "print(\"\\nresources with extracted figures (notice that there's one more field called 'outputs'):\")\n",
    "print(sorted(resources.keys()))\n",
    "\n",
    "print(\"\\nthe actual figures are:\")\n",
    "print(sorted(resources['outputs'].keys()))"
   ]
  },
  {
   "cell_type": "code",
   "execution_count": 6,
   "metadata": {
    "collapsed": true
   },
   "outputs": [],
   "source": [
    "with open(\"fibonaccistretch_with_figs.html\", \"w\") as f:\n",
    "    f.write(body)"
   ]
  },
  {
   "cell_type": "code",
   "execution_count": 7,
   "metadata": {
    "collapsed": false
   },
   "outputs": [
    {
     "ename": "KeyError",
     "evalue": "'output_111_1.png'",
     "output_type": "error",
     "traceback": [
      "\u001b[0;31m----------------------------------------------------------------------\u001b[0m",
      "\u001b[0;31mKeyError\u001b[0m                             Traceback (most recent call last)",
      "\u001b[0;32m<ipython-input-7-db82318a01a4>\u001b[0m in \u001b[0;36m<module>\u001b[0;34m()\u001b[0m\n\u001b[0;32m----> 1\u001b[0;31m \u001b[0mresources\u001b[0m\u001b[0;34m[\u001b[0m\u001b[0;34m\"outputs\"\u001b[0m\u001b[0;34m]\u001b[0m\u001b[0;34m[\u001b[0m\u001b[0;34m\"output_111_1.png\"\u001b[0m\u001b[0;34m]\u001b[0m\u001b[0;34m[\u001b[0m\u001b[0;34m:\u001b[0m\u001b[0;36m100\u001b[0m\u001b[0;34m]\u001b[0m\u001b[0;34m\u001b[0m\u001b[0m\n\u001b[0m",
      "\u001b[0;31mKeyError\u001b[0m: 'output_111_1.png'"
     ]
    }
   ],
   "source": [
    "resources[\"outputs\"][\"output_111_1.png\"][:100]"
   ]
  },
  {
   "cell_type": "code",
   "execution_count": null,
   "metadata": {
    "collapsed": false
   },
   "outputs": [],
   "source": [
    "import os\n",
    "\n",
    "figs_dir = \"data/figs\"\n",
    "for k in resources[\"outputs\"].keys():\n",
    "    v = resources[\"outputs\"][k]\n",
    "    path = os.path.join(figs_dir, k)\n",
    "    print(path)\n",
    "    with open(path, \"wb\") as f:\n",
    "        f.write(v)"
   ]
  },
  {
   "cell_type": "code",
   "execution_count": null,
   "metadata": {
    "collapsed": true
   },
   "outputs": [],
   "source": []
  }
 ],
 "metadata": {
  "kernelspec": {
   "display_name": "Python 2",
   "language": "python",
   "name": "python2"
  },
  "language_info": {
   "codemirror_mode": {
    "name": "ipython",
    "version": 2
   },
   "file_extension": ".py",
   "mimetype": "text/x-python",
   "name": "python",
   "nbconvert_exporter": "python",
   "pygments_lexer": "ipython2",
   "version": "2.7.13"
  }
 },
 "nbformat": 4,
 "nbformat_minor": 2
}
