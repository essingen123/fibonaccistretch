{
 "cells": [
  {
   "cell_type": "markdown",
   "metadata": {},
   "source": [
    "## 1. HTMLExporter with figs"
   ]
  },
  {
   "cell_type": "code",
   "execution_count": 1,
   "metadata": {
    "collapsed": false
   },
   "outputs": [],
   "source": [
    "import nbformat\n",
    "nb_raw = \"\"\n",
    "with open(\"fibonaccistretch.ipynb\", \"r\") as f:\n",
    "    nb_raw = f.read()\n",
    "nb = nbformat.reads(nb_raw, as_version=4)"
   ]
  },
  {
   "cell_type": "code",
   "execution_count": 2,
   "metadata": {
    "collapsed": false
   },
   "outputs": [
    {
     "name": "stdout",
     "output_type": "stream",
     "text": [
      "{u'execution_count': 5, u'cell_type': u'code', u'source': u'# Generate tresillo clicks\\nsr = 44100\\ntresillo_click_interval = 0.25 # in seconds\\ntresillo_click_times = np.array([i * tresillo_click_interval for i in range(len(tresillo_rhythm))\\n                                 if tresillo_rhythm[i] != 0])\\ntresillo_clicks = librosa.clicks(times=tresillo_click_times, click_freq=2000.0, sr=sr) # Generate clicks according to the rhythm\\n\\n# Plot clicks and click times\\nplt.figure(figsize=(8, 2))\\nlibrosa.display.waveplot(tresillo_clicks, sr=sr)\\nplt.vlines(tresillo_click_times + 0.005, -1, 1, color=\"r\") # Add tiny offset so the first line shows up\\nplt.xticks(np.arange(0, 1.75, 0.25))\\n\\n# Render clicks as audio\\nipd.Audio(tresillo_clicks, rate=sr)', u'outputs': [{u'execution_count': 5, u'output_type': u'execute_result', u'data': {u'text/plain': u'<IPython.lib.display.Audio object>', u'text/html': u'\\n                <audio controls=\"controls\" >\\n                    <source src=\"data:audio/wav;base64,UklGRmQnAgBXQVZFZm10IBAAAAABAAEARKwAAIhYAQACABAAZGF0YUAnAgAAAJkkIkbqYbp1/3/sf411v2EiRvUk6QDo3Ne7XaCtjFaCJoIYjFifUbrR2jX+oSE8Qmdd93Bfe897RnKRXzpFZCWlAszfpr/JpFqR44Y1hlePhKE+u23aifzQHoI+EllgbOR2zXcQb2hdSUS+JUIEiuJLwwmp3ZVMiyqKhZKrozO8HNr7+iUc8jrnVPFnjHLmc+prQ1tQQwUmwgUj5cbGHq04mpKPA46jlc6lL73e2Yn5nhmLN+ZQqmNYbhpw1GgjWVFCOiYmB5jnGsoLsWuetpPCkbCY66cxvrLZMvg6F0s0Dk2KX0RqaGzPZQlXTEFfJnAI7OlHzc+0eKK5l2eVrZsCqji/ldn19vYUMDFdSY9bUmbQaNti9FRCQHMmoQkg7FDQbbhhppub85ianhSsRcCI2dD10hI5LtJFuFeAYlFl9l/mUjM/eSa6CjXuNdPmuyWqXZ9mnHahH65WwYnZwvTLEGUra0IFVM1e6mEiXd5QIT5yJr0LLfD41Tu/x60Ao8CfQqQjsGrCl9nK8+IOsygoP3VQOVucXl9a3U4LPV0mqgwI8prYbcJHsYamAqP9piGygcOy2efyFA0gJgY8BU3CV2Zbq1fjTPM7PSaEDcnzHdt+xae07qkspqmpF7SaxNjZF/JhC60jBTm2SWlUR1gHVfBK2ToRJkoOb/WC3W/I57c6rUCpRawGtrXFCNpa8cYJViEkNoVGK1E/VXNSBUm9Odwl/Q7+9srfQcsIu2mwPKzRru630cZD2q/wRAgdH2Izc0MJTk5S7k8hR6A4nCWgD3T49uH1zQu+frMjr06xzrnux4faFfDZBv4cvDB+QAFLck95TUVFgzdUJTIQ1PkH5IvQ8sB5tvSxvLOmuwzJ09qK74QF+ho0LqU9E0irTBNLcUNmNgQltRAf+/7lBtO9w1q5sLQa\n"
     ]
    }
   ],
   "source": [
    "str(nb.cells[6])[:1000]\n",
    "print(str(nb.cells[12])[:2000])\n",
    "# nb.cells[12]"
   ]
  },
  {
   "cell_type": "code",
   "execution_count": 3,
   "metadata": {
    "collapsed": true
   },
   "outputs": [],
   "source": [
    "# from traitlets.config import Config\n",
    "\n",
    "# # 1. Import the exporter\n",
    "# from nbconvert import HTMLExporter\n",
    "\n",
    "# # 2. Instantiate the exporter. We use the `basic` template for now; we'll get into more details\n",
    "# # later about how to customize the exporter further.\n",
    "# html_exporter = HTMLExporter()\n",
    "# html_exporter.template_file = 'basic'\n",
    "\n",
    "# # 3. Process the notebook we loaded earlier\n",
    "# (body, resources) = html_exporter.from_notebook_node(jake_notebook)"
   ]
  },
  {
   "cell_type": "code",
   "execution_count": 4,
   "metadata": {
    "collapsed": false
   },
   "outputs": [
    {
     "data": {
      "text/plain": [
       "['nbconvert.preprocessors.ExtractOutputPreprocessor']"
      ]
     },
     "execution_count": 4,
     "metadata": {},
     "output_type": "execute_result"
    }
   ],
   "source": [
    "# create a configuration object that changes the preprocessors\n",
    "from traitlets.config import Config\n",
    "from nbconvert import HTMLExporter\n",
    "\n",
    "c = Config()\n",
    "c.HTMLExporter.preprocessors = ['nbconvert.preprocessors.ExtractOutputPreprocessor']\n",
    "\n",
    "# create the new exporter using the custom config\n",
    "html_exporter_with_figs = HTMLExporter(config=c)\n",
    "html_exporter_with_figs.preprocessors"
   ]
  },
  {
   "cell_type": "code",
   "execution_count": 5,
   "metadata": {
    "collapsed": false
   },
   "outputs": [
    {
     "name": "stdout",
     "output_type": "stream",
     "text": [
      "\n",
      "resources with extracted figures (notice that there's one more field called 'outputs'):\n",
      "['inlining', 'metadata', 'output_extension', 'outputs', 'raw_mimetypes']\n",
      "\n",
      "the actual figures are:\n",
      "[u'output_111_1.png', u'output_113_1.png', u'output_118_1.png', u'output_121_1.png', u'output_123_1.png', u'output_126_1.png', u'output_128_1.png', u'output_12_1.png', u'output_130_1.png', u'output_133_1.png', u'output_135_1.png', u'output_16_2.png', u'output_23_1.png', u'output_25_1.png', u'output_30_1.png', u'output_36_0.png', u'output_36_1.png', u'output_36_2.png', u'output_36_3.png', u'output_42_1.png', u'output_49_1.png', u'output_57_1.png', u'output_63_1.png', u'output_65_1.png', u'output_78_1.png', u'output_83_1.png']\n"
     ]
    }
   ],
   "source": [
    "(body, resources) = html_exporter_with_figs.from_notebook_node(nb)\n",
    "\n",
    "print(\"\\nresources with extracted figures (notice that there's one more field called 'outputs'):\")\n",
    "print(sorted(resources.keys()))\n",
    "\n",
    "print(\"\\nthe actual figures are:\")\n",
    "print(sorted(resources['outputs'].keys()))"
   ]
  },
  {
   "cell_type": "code",
   "execution_count": 6,
   "metadata": {
    "collapsed": true
   },
   "outputs": [],
   "source": [
    "with open(\"fibonaccistretch_with_figs2.html\", \"w\") as f:\n",
    "    f.write(body)"
   ]
  },
  {
   "cell_type": "code",
   "execution_count": 7,
   "metadata": {
    "collapsed": false
   },
   "outputs": [
    {
     "data": {
      "text/plain": [
       "'\\x89PNG\\r\\n\\x1a\\n\\x00\\x00\\x00\\rIHDR\\x00\\x00\\x03\\xae\\x00\\x00\\x01\\n\\x08\\x06\\x00\\x00\\x00\\x12\\x14\\x08\\xa3\\x00\\x00\\x00\\x04sBIT\\x08\\x08\\x08\\x08|\\x08d\\x88\\x00\\x00\\x00\\tpHYs\\x00\\x00\\x0b\\x12\\x00\\x00\\x0b\\x12\\x01\\xd2\\xdd~\\xfc\\x00\\x00 \\x00IDATx\\x9c\\xec\\x9dwx\\x14U\\xdb\\xc6\\xef\\x93F\\xef]\\x8aAz/\\xd2T\\x9a'"
      ]
     },
     "execution_count": 7,
     "metadata": {},
     "output_type": "execute_result"
    }
   ],
   "source": [
    "resources[\"outputs\"][\"output_111_1.png\"][:100]"
   ]
  },
  {
   "cell_type": "code",
   "execution_count": 9,
   "metadata": {
    "collapsed": false
   },
   "outputs": [
    {
     "name": "stdout",
     "output_type": "stream",
     "text": [
      "data/figs2/output_57_1.png\n",
      "data/figs2/output_16_2.png\n",
      "data/figs2/output_111_1.png\n",
      "data/figs2/output_23_1.png\n",
      "data/figs2/output_83_1.png\n",
      "data/figs2/output_63_1.png\n",
      "data/figs2/output_118_1.png\n",
      "data/figs2/output_42_1.png\n",
      "data/figs2/output_133_1.png\n",
      "data/figs2/output_36_1.png\n",
      "data/figs2/output_36_2.png\n",
      "data/figs2/output_36_3.png\n",
      "data/figs2/output_128_1.png\n",
      "data/figs2/output_78_1.png\n",
      "data/figs2/output_65_1.png\n",
      "data/figs2/output_30_1.png\n",
      "data/figs2/output_36_0.png\n",
      "data/figs2/output_12_1.png\n",
      "data/figs2/output_49_1.png\n",
      "data/figs2/output_130_1.png\n",
      "data/figs2/output_135_1.png\n",
      "data/figs2/output_113_1.png\n",
      "data/figs2/output_123_1.png\n",
      "data/figs2/output_121_1.png\n",
      "data/figs2/output_25_1.png\n",
      "data/figs2/output_126_1.png\n"
     ]
    }
   ],
   "source": [
    "import os\n",
    "\n",
    "figs_dir = \"data/figs2\"\n",
    "for k in resources[\"outputs\"].keys():\n",
    "    v = resources[\"outputs\"][k]\n",
    "    path = os.path.join(figs_dir, k)\n",
    "    print(path)\n",
    "    with open(path, \"wb\") as f:\n",
    "        f.write(v)"
   ]
  },
  {
   "cell_type": "code",
   "execution_count": null,
   "metadata": {
    "collapsed": true
   },
   "outputs": [],
   "source": []
  }
 ],
 "metadata": {
  "kernelspec": {
   "display_name": "Python 2",
   "language": "python",
   "name": "python2"
  },
  "language_info": {
   "codemirror_mode": {
    "name": "ipython",
    "version": 2
   },
   "file_extension": ".py",
   "mimetype": "text/x-python",
   "name": "python",
   "nbconvert_exporter": "python",
   "pygments_lexer": "ipython2",
   "version": "2.7.13"
  }
 },
 "nbformat": 4,
 "nbformat_minor": 2
}
