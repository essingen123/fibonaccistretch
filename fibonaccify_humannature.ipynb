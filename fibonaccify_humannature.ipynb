version https://git-lfs.github.com/spec/v1
oid sha256:cb797a7a5763a488c5770cd4a968d07c8bf35ac8f1483c0c4dbb02f107139a2a
size 24768247
