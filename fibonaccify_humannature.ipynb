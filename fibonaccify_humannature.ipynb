version https://git-lfs.github.com/spec/v1
oid sha256:f6694462006bf1ee6b8c1ae111c4448d44893662145941426a5c3be5f0a0aa7d
size 28606892
