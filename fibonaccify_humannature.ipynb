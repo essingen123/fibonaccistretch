version https://git-lfs.github.com/spec/v1
oid sha256:1de8fa72929c083920abf1a9eb85aa115f6f9a0de644d4366d4860eccc3177ad
size 28665048
