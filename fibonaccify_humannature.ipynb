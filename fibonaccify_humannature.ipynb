version https://git-lfs.github.com/spec/v1
oid sha256:d813cd0618b205038a562fb3293fe2c9239eefbcb2a40058c550bdce0e0b874a
size 37203459
