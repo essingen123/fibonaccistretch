version https://git-lfs.github.com/spec/v1
oid sha256:a8b6077e1813225713f697f0ba5c4a6e22e79436c763bcb407ff9be9b2a1f5e6
size 37202921
