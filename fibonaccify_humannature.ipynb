version https://git-lfs.github.com/spec/v1
oid sha256:6811e422ad726d4aba2d0789c7a4782e59677fc7eb2d54e185ea54fc66b1d0e1
size 28609288
