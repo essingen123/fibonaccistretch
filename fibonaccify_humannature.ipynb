version https://git-lfs.github.com/spec/v1
oid sha256:e151ba7761472251e9662beefdb6ae87e1cb72bac153f9887cbcd95fa20740cb
size 32639412
