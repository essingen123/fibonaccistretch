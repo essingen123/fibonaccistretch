version https://git-lfs.github.com/spec/v1
oid sha256:617d6e83d32652c56813291acfed1d43caa699c5e006d967a48eac5d8f58eede
size 36778671
