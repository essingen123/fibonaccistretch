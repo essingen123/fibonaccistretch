version https://git-lfs.github.com/spec/v1
oid sha256:e3803a3ba3ca2482ccaff428eeec68b224b474c9a916b18a719a3a97a86c02e2
size 57326423
