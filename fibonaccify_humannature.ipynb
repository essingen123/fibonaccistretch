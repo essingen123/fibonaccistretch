version https://git-lfs.github.com/spec/v1
oid sha256:8c66cfcbd6a2e80733ce1573112f8f606ed1f835b67679e5d1c58864bf0acedc
size 36782973
