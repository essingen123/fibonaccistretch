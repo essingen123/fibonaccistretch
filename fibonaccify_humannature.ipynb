version https://git-lfs.github.com/spec/v1
oid sha256:aabf59bcbed58319b3679cc2df8685abb91e8190abb3acff5991b3b47dfb26b0
size 24768210
