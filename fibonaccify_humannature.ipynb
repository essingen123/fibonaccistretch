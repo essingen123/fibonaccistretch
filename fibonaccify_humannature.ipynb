version https://git-lfs.github.com/spec/v1
oid sha256:37d39bf529042cad8adcf7b52fe02f2ba95bd5e64d06a2d154cd619694948793
size 24921488
