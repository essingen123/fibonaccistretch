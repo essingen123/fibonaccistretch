version https://git-lfs.github.com/spec/v1
oid sha256:33c124f278bdd20538b73452b26b35554a07ce9ed609e8a23cd83747e4d36782
size 53155721
