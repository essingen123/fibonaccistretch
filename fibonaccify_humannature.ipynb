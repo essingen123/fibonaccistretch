version https://git-lfs.github.com/spec/v1
oid sha256:14c256e518266c19a0704cebfecbb86e678eb8d1505db47f8fc122b0cf6d2c6a
size 32589559
