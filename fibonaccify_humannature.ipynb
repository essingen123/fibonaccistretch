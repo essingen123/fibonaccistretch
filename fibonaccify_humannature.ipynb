version https://git-lfs.github.com/spec/v1
oid sha256:1bb6c37a4f35438d8c0c1b534274c5159f3f33a6664ce4cb26685043285e41c8
size 42786939
