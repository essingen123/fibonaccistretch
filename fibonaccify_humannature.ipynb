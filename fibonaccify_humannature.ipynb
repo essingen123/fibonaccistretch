version https://git-lfs.github.com/spec/v1
oid sha256:d2da0f2b7dd8ce16537f24ab74d44da5ce93d9efb2799a7e51ad3747bec63c3d
size 28608077
