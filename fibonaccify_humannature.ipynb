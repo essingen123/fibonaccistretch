version https://git-lfs.github.com/spec/v1
oid sha256:689275527d9c2fbb4922c69c14902425d062a8ad2c92fa744c531e0cd9d1731c
size 32589887
