version https://git-lfs.github.com/spec/v1
oid sha256:14aa0b51337c298fc32ba3a3fd65c6c582b0b8d14abcccce6e12163cefa4e724
size 40547149
