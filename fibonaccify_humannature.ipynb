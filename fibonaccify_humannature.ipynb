version https://git-lfs.github.com/spec/v1
oid sha256:fcce89bb4ab0923a7178e09dcd4b165b91ac4b71537ad137e6033bbb93c65000
size 43036805
