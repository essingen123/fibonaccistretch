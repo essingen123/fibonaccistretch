version https://git-lfs.github.com/spec/v1
oid sha256:2b8684543134f180e25b491c6ec63b66a3b376cceff5ff946b4eccf6632a515f
size 37201509
