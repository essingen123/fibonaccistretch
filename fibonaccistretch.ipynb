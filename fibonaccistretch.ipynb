version https://git-lfs.github.com/spec/v1
oid sha256:17282ed6dd03385cfd098970770841b3b4fd56a2c0212599081f092cf37cc272
size 82972
