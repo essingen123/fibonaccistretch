version https://git-lfs.github.com/spec/v1
oid sha256:7d98e1fefa56aa2092e0216463fe066f31122db5ee314a88362036101b027b02
size 75481559
