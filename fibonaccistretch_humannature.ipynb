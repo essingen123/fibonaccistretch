version https://git-lfs.github.com/spec/v1
oid sha256:7c6bb28e71205de7449a836e2d7c6442bbf8a28bd2ab40defe94970b2b37fd88
size 50968047
