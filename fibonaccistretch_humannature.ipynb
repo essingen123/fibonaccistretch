version https://git-lfs.github.com/spec/v1
oid sha256:a3699aaf7bd705e92b3ad71838eba2e73999a4abf48c45dfcfee3511ed01fdfa
size 75481346
