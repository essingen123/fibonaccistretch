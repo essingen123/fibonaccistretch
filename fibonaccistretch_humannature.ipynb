version https://git-lfs.github.com/spec/v1
oid sha256:d4a8d17ca4626e8ed40775f1cf253412feac7f80982739df78eb93d9dba270a3
size 75478425
