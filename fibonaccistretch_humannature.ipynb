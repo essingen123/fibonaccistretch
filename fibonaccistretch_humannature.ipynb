version https://git-lfs.github.com/spec/v1
oid sha256:752a15a4c198e5e1d94b81dd07d0ea05a44a00f4c148577cea3325224612692c
size 47540720
