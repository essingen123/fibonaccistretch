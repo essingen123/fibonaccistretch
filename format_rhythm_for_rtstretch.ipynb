{
 "cells": [
  {
   "cell_type": "markdown",
   "metadata": {},
   "source": [
    "Coming up with an algorithm to create target rhythm from original rhythm such that real-time time-stretching (or even real-time stuttering) is possible"
   ]
  },
  {
   "cell_type": "code",
   "execution_count": 1,
   "metadata": {
    "collapsed": true
   },
   "outputs": [],
   "source": [
    "import librosa"
   ]
  },
  {
   "cell_type": "code",
   "execution_count": 2,
   "metadata": {
    "collapsed": true
   },
   "outputs": [],
   "source": [
    "librosa.effects.time_stretch??"
   ]
  },
  {
   "cell_type": "code",
   "execution_count": 3,
   "metadata": {
    "collapsed": true
   },
   "outputs": [],
   "source": [
    "librosa.core.phase_vocoder??"
   ]
  },
  {
   "cell_type": "code",
   "execution_count": 4,
   "metadata": {
    "collapsed": true
   },
   "outputs": [],
   "source": [
    "import fibonaccistretch"
   ]
  },
  {
   "cell_type": "code",
   "execution_count": 9,
   "metadata": {
    "collapsed": false
   },
   "outputs": [],
   "source": [
    "fibonaccistretch.euclidean_stretch??"
   ]
  },
  {
   "cell_type": "code",
   "execution_count": 10,
   "metadata": {
    "collapsed": true
   },
   "outputs": [],
   "source": [
    "import bjorklund"
   ]
  },
  {
   "cell_type": "code",
   "execution_count": 29,
   "metadata": {
    "collapsed": false
   },
   "outputs": [
    {
     "data": {
      "text/plain": [
       "'Original rhythm: [1, 0, 0, 1, 0, 0, 1, 0]    Target rhythm: [1, 0, 1, 1, 0, 1, 0, 1, 1, 0, 1, 0, 1]'"
      ]
     },
     "execution_count": 29,
     "metadata": {},
     "output_type": "execute_result"
    }
   ],
   "source": [
    "# Generate rhythms based on parameters\n",
    "def generate_original_and_target_rhythms(num_pulses, original_length, target_length):\n",
    "    original_rhythm = bjorklund.bjorklund(pulses=num_pulses, steps=original_length)\n",
    "    target_rhythm = bjorklund.bjorklund(pulses=len(original_rhythm), steps=target_length)\n",
    "    return (original_rhythm, target_rhythm)\n",
    "\n",
    "original_rhythm, target_rhythm = generate_original_and_target_rhythms(3, 8, 13)\n",
    "\n",
    "\"Original rhythm: {}    Target rhythm: {}\".format(original_rhythm, target_rhythm)"
   ]
  },
  {
   "cell_type": "code",
   "execution_count": 17,
   "metadata": {
    "collapsed": false
   },
   "outputs": [
    {
     "data": {
      "text/plain": [
       "104"
      ]
     },
     "execution_count": 17,
     "metadata": {},
     "output_type": "execute_result"
    }
   ],
   "source": [
    "lcm = (original_length*target_length) / fibonaccistretch.euclid(original_length, target_length)\n",
    "lcm"
   ]
  },
  {
   "cell_type": "code",
   "execution_count": 18,
   "metadata": {
    "collapsed": false
   },
   "outputs": [
    {
     "data": {
      "text/plain": [
       "104"
      ]
     },
     "execution_count": 18,
     "metadata": {},
     "output_type": "execute_result"
    }
   ],
   "source": [
    "13*8"
   ]
  },
  {
   "cell_type": "code",
   "execution_count": 91,
   "metadata": {
    "collapsed": false
   },
   "outputs": [
    {
     "name": "stdout",
     "output_type": "stream",
     "text": [
      "Original rhythm: [1, 0, 0, 1, 0, 0, 1, 0]    Target rhythm: [1, 0, 1, 1, 0, 1, 0, 1, 1, 0, 1, 0, 1]\n",
      "lcm=104, original_scale_factor=12, target_scale_factor=7\n"
     ]
    },
    {
     "data": {
      "text/plain": [
       "(104, 104)"
      ]
     },
     "execution_count": 91,
     "metadata": {},
     "output_type": "execute_result"
    }
   ],
   "source": [
    "# Scale rhythms so they're of equal length\n",
    "def scale_rhythm_subdivisions(original_rhythm, target_rhythm, delimiter=\"-\"):\n",
    "    original_length = len(original_rhythm)\n",
    "    target_length = len(target_rhythm)\n",
    "    lcm = (original_length*target_length) / fibonaccistretch.euclid(original_length, target_length)\n",
    "    original_scale_factor = (lcm / original_length) - 1\n",
    "    target_scale_factor = (lcm / target_length) - 1\n",
    "    \n",
    "    print(\"lcm={}, original_scale_factor={}, target_scale_factor={}\").format(lcm, original_scale_factor, target_scale_factor)\n",
    "    \n",
    "    delimiter = str(delimiter)\n",
    "    original_rhythm = list((delimiter*original_scale_factor).join([str(x) for x in original_rhythm]))\n",
    "    target_rhythm = list((delimiter*target_scale_factor).join([str(x) for x in target_rhythm]))\n",
    "    \n",
    "    original_rhythm.extend(list(delimiter*original_scale_factor))\n",
    "    target_rhythm.extend(list(delimiter*target_scale_factor))\n",
    "\n",
    "    \n",
    "    return (original_rhythm, target_rhythm)\n",
    "\n",
    "# print(scale_rhythm_subdivisions(original_rhythm, target_rhythm))\n",
    "original_rhythm, target_rhythm = generate_original_and_target_rhythms(3, 8, 13)\n",
    "print(\"Original rhythm: {}    Target rhythm: {}\".format(original_rhythm, target_rhythm))\n",
    "original_rhythm, target_rhythm = scale_rhythm_subdivisions(original_rhythm, target_rhythm)\n",
    "# print(\"Original rhythm: {}    Target rhythm: {}\".format(original_rhythm, target_rhythm))\n",
    "(len(original_rhythm), len(target_rhythm))"
   ]
  },
  {
   "cell_type": "code",
   "execution_count": 86,
   "metadata": {
    "collapsed": false
   },
   "outputs": [
    {
     "data": {
      "text/plain": [
       "'2-3-4'"
      ]
     },
     "execution_count": 86,
     "metadata": {},
     "output_type": "execute_result"
    }
   ],
   "source": [
    "\"0\"*4\n",
    "\"-\".join([str(x) for x in [2,3,4]])"
   ]
  },
  {
   "cell_type": "code",
   "execution_count": 88,
   "metadata": {
    "collapsed": false
   },
   "outputs": [
    {
     "data": {
      "text/plain": [
       "['0', '0', '0', '0']"
      ]
     },
     "execution_count": 88,
     "metadata": {},
     "output_type": "execute_result"
    }
   ],
   "source": []
  },
  {
   "cell_type": "code",
   "execution_count": null,
   "metadata": {
    "collapsed": true
   },
   "outputs": [],
   "source": []
  }
 ],
 "metadata": {
  "kernelspec": {
   "display_name": "Python 2",
   "language": "python",
   "name": "python2"
  },
  "language_info": {
   "codemirror_mode": {
    "name": "ipython",
    "version": 2
   },
   "file_extension": ".py",
   "mimetype": "text/x-python",
   "name": "python",
   "nbconvert_exporter": "python",
   "pygments_lexer": "ipython2",
   "version": "2.7.13"
  }
 },
 "nbformat": 4,
 "nbformat_minor": 2
}
