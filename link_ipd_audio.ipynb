{
 "cells": [
  {
   "cell_type": "markdown",
   "metadata": {},
   "source": [
    "Link audio to mp3 files, for an exported Jupyter notebook in HTML format. Also do some HTML formatting and updating."
   ]
  },
  {
   "cell_type": "code",
   "execution_count": 1,
   "metadata": {
    "collapsed": true
   },
   "outputs": [],
   "source": [
    "# Imports\n",
    "import re\n",
    "import os\n",
    "import sys"
   ]
  },
  {
   "cell_type": "code",
   "execution_count": 2,
   "metadata": {
    "collapsed": false
   },
   "outputs": [
    {
     "data": {
      "text/plain": [
       "74723371"
      ]
     },
     "execution_count": 2,
     "metadata": {},
     "output_type": "execute_result"
    }
   ],
   "source": [
    "# Read input HTML\n",
    "in_filepath = \"fibonaccistretch_with_figs.html\"\n",
    "html = \"\"\n",
    "with open(in_filepath, \"r\") as f:\n",
    "    html = f.read()\n",
    "len(html)"
   ]
  },
  {
   "cell_type": "code",
   "execution_count": 3,
   "metadata": {
    "collapsed": false
   },
   "outputs": [
    {
     "data": {
      "text/plain": [
       "22"
      ]
     },
     "execution_count": 3,
     "metadata": {},
     "output_type": "execute_result"
    }
   ],
   "source": [
    "# Find <audio> elements\n",
    "# p = re.compile('<audio controls=\"controls\" >\\s*<source src=\".*\" type=\".*\" \\/>.*<\\/audio>')\n",
    "p = re.compile('<audio controls=\"controls\" >\\s*<source src=\".*\" type=\".*\" \\/>')\n",
    "matches = p.findall(html)\n",
    "len(matches)"
   ]
  },
  {
   "cell_type": "code",
   "execution_count": 4,
   "metadata": {
    "collapsed": false
   },
   "outputs": [
    {
     "data": {
      "text/plain": [
       "466207"
      ]
     },
     "execution_count": 4,
     "metadata": {},
     "output_type": "execute_result"
    }
   ],
   "source": [
    "# Replace audio tag sources with corresponding mp3s\n",
    "# (assumes that we have them all numbered from 0 to n-1 for n sources)\n",
    "data_dir = \"data/ipd_audio\"\n",
    "data_ext = \"mp3\"\n",
    "for i,m in enumerate(matches):\n",
    "    mp3_filepath = os.path.join(data_dir, \"{}.{}\".format(i, data_ext))\n",
    "    audio_tag = '<audio controls=\"controls\"><source src=\"{}\" type=\"audio/mp3\" />'.format(mp3_filepath)\n",
    "    # print(audio_tag)\n",
    "    # print(m[:100])\n",
    "    \n",
    "    html = html.replace(m, audio_tag)\n",
    "len(html)"
   ]
  },
  {
   "cell_type": "code",
   "execution_count": 5,
   "metadata": {
    "collapsed": false
   },
   "outputs": [
    {
     "data": {
      "text/plain": [
       "466467"
      ]
     },
     "execution_count": 5,
     "metadata": {},
     "output_type": "execute_result"
    }
   ],
   "source": [
    "# Replace fig path if necessary\n",
    "# Unnecessary if using export_with_figs now\n",
    "fig_path = \"data/figs\"\n",
    "html = html.replace('img src=\"output', 'img src=\"{}/output'.format(fig_path))\n",
    "len(html)"
   ]
  },
  {
   "cell_type": "code",
   "execution_count": 6,
   "metadata": {
    "collapsed": false
   },
   "outputs": [
    {
     "data": {
      "text/plain": [
       "466476"
      ]
     },
     "execution_count": 6,
     "metadata": {},
     "output_type": "execute_result"
    }
   ],
   "source": [
    "# Update title if necessary\n",
    "html = re.sub(\"<title>.*</title>\", \"<title>Fibonacci Stretch</title>\", html)\n",
    "len(html)"
   ]
  },
  {
   "cell_type": "code",
   "execution_count": 7,
   "metadata": {
    "collapsed": true
   },
   "outputs": [],
   "source": [
    "out_filepath = \"fibonaccistretch_linked.html\"\n",
    "with open(out_filepath, \"w\") as f:\n",
    "    f.write(html)"
   ]
  },
  {
   "cell_type": "code",
   "execution_count": null,
   "metadata": {
    "collapsed": true
   },
   "outputs": [],
   "source": []
  }
 ],
 "metadata": {
  "kernelspec": {
   "display_name": "Python 2",
   "language": "python",
   "name": "python2"
  },
  "language_info": {
   "codemirror_mode": {
    "name": "ipython",
    "version": 2
   },
   "file_extension": ".py",
   "mimetype": "text/x-python",
   "name": "python",
   "nbconvert_exporter": "python",
   "pygments_lexer": "ipython2",
   "version": "2.7.13"
  }
 },
 "nbformat": 4,
 "nbformat_minor": 2
}
