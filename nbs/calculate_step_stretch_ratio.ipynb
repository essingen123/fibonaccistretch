{
 "cells": [
  {
   "cell_type": "markdown",
   "metadata": {},
   "source": [
    "Getting stretch ratios for each step"
   ]
  },
  {
   "cell_type": "code",
   "execution_count": 14,
   "metadata": {
    "collapsed": true
   },
   "outputs": [],
   "source": [
    "# Imports\n",
    "%matplotlib inline\n",
    "import pardir; pardir.pardir() # Allow imports from parent directory\n",
    "import fibonaccistretch as fib\n",
    "import bjorklund"
   ]
  },
  {
   "cell_type": "code",
   "execution_count": 3,
   "metadata": {
    "collapsed": true
   },
   "outputs": [],
   "source": [
    "# Setting up basics\n",
    "original_rhythm = [1,0,0,1,0,0,1,0]\n",
    "target_rhythm = [1,0,0,0,0,1,0,0,0,0,1,0,0]"
   ]
  },
  {
   "cell_type": "code",
   "execution_count": 5,
   "metadata": {
    "collapsed": false
   },
   "outputs": [
    {
     "data": {
      "text/plain": [
       "array([ 0.6       ,  0.6       ,  0.66666667])"
      ]
     },
     "execution_count": 5,
     "metadata": {},
     "output_type": "execute_result"
    }
   ],
   "source": [
    "fib.calculate_pulse_ratios(original_rhythm, target_rhythm)"
   ]
  },
  {
   "cell_type": "code",
   "execution_count": 6,
   "metadata": {
    "collapsed": false
   },
   "outputs": [
    {
     "data": {
      "text/plain": [
       "array([3, 3, 2])"
      ]
     },
     "execution_count": 6,
     "metadata": {},
     "output_type": "execute_result"
    }
   ],
   "source": [
    "fib.calculate_pulse_lengths(original_rhythm)"
   ]
  },
  {
   "cell_type": "code",
   "execution_count": 10,
   "metadata": {
    "collapsed": false
   },
   "outputs": [
    {
     "data": {
      "text/plain": [
       "array([ 0.2       ,  0.2       ,  0.33333333])"
      ]
     },
     "execution_count": 10,
     "metadata": {},
     "output_type": "execute_result"
    }
   ],
   "source": [
    "fib.calculate_pulse_ratios([1]*len(original_rhythm), target_rhythm)"
   ]
  },
  {
   "cell_type": "code",
   "execution_count": 7,
   "metadata": {
    "collapsed": false
   },
   "outputs": [
    {
     "data": {
      "text/plain": [
       "[1, 1, 1, 1, 1, 1, 1, 1]"
      ]
     },
     "execution_count": 7,
     "metadata": {},
     "output_type": "execute_result"
    }
   ],
   "source": [
    "[1]*8"
   ]
  },
  {
   "cell_type": "code",
   "execution_count": 11,
   "metadata": {
    "collapsed": false
   },
   "outputs": [
    {
     "data": {
      "text/plain": [
       "array([5, 5, 3])"
      ]
     },
     "execution_count": 11,
     "metadata": {},
     "output_type": "execute_result"
    }
   ],
   "source": [
    "fib.calculate_pulse_lengths(target_rhythm)"
   ]
  },
  {
   "cell_type": "code",
   "execution_count": 18,
   "metadata": {
    "collapsed": false
   },
   "outputs": [
    {
     "data": {
      "text/plain": [
       "array([ 0.5,  0.5,  1. ])"
      ]
     },
     "execution_count": 18,
     "metadata": {},
     "output_type": "execute_result"
    }
   ],
   "source": [
    "# Original and target pulse lengths; just take the first one from each for now\n",
    "opl = fib.calculate_pulse_lengths(original_rhythm)[0]\n",
    "tpl = fib.calculate_pulse_lengths(target_rhythm)[0]\n",
    "\n",
    "# Adapted from Euclidean stretch\n",
    "opr = [1] * len(original_rhythm)\n",
    "\n",
    "# Generate target pulse rhythm (\"tpr\")\n",
    "tpr = bjorklund.bjorklund(pulses=opl, steps=tpl)\n",
    "tpr_pulse_lengths = fib.calculate_pulse_lengths(tpr)\n",
    "tpr_pulse_ratios = fib.calculate_pulse_ratios(opr, tpr)\n",
    "\n",
    "tpr_pulse_ratios"
   ]
  },
  {
   "cell_type": "code",
   "execution_count": 21,
   "metadata": {
    "collapsed": false
   },
   "outputs": [
    {
     "data": {
      "text/plain": [
       "[0.59999999999999998,\n",
       " 0.59999999999999998,\n",
       " 0.59999999999999998,\n",
       " 0.59999999999999998,\n",
       " 0.59999999999999998,\n",
       " 0.59999999999999998,\n",
       " 0.66666666666666663,\n",
       " 0.66666666666666663]"
      ]
     },
     "execution_count": 21,
     "metadata": {},
     "output_type": "execute_result"
    }
   ],
   "source": [
    "# Format pulse ratios so there's one for each step\n",
    "original_pulse_lengths = fib.calculate_pulse_lengths(original_rhythm)\n",
    "pulse_ratios = fib.calculate_pulse_ratios(original_rhythm, target_rhythm)\n",
    "pulse_ratios_by_step = []\n",
    "for i,pulse_length in enumerate(original_pulse_lengths):\n",
    "    for _ in range(pulse_length):\n",
    "        pulse_ratios_by_step.append(pulse_ratios[i])\n",
    "pulse_ratios_by_step"
   ]
  },
  {
   "cell_type": "markdown",
   "metadata": {},
   "source": [
    "Putting it all together!"
   ]
  },
  {
   "cell_type": "code",
   "execution_count": 22,
   "metadata": {
    "collapsed": false
   },
   "outputs": [
    {
     "data": {
      "text/plain": [
       "[0.29999999999999999,\n",
       " 0.29999999999999999,\n",
       " 0.59999999999999998,\n",
       " 0.29999999999999999,\n",
       " 0.29999999999999999,\n",
       " 0.59999999999999998,\n",
       " 0.59999999999999998,\n",
       " 0.29999999999999999]"
      ]
     },
     "execution_count": 22,
     "metadata": {},
     "output_type": "execute_result"
    }
   ],
   "source": [
    "# Original and target pulse lengths\n",
    "original_pulse_lengths = fib.calculate_pulse_lengths(original_rhythm)\n",
    "target_pulse_lengths = fib.calculate_pulse_lengths(target_rhythm)\n",
    "\n",
    "# Pulse ratios\n",
    "# Format pulse ratios so there's one for each step\n",
    "original_pulse_lengths = fib.calculate_pulse_lengths(original_rhythm)\n",
    "pulse_ratios = fib.calculate_pulse_ratios(original_rhythm, target_rhythm)\n",
    "pulse_ratios_by_step = []\n",
    "for i,pulse_length in enumerate(original_pulse_lengths):\n",
    "    for _ in range(pulse_length):\n",
    "        pulse_ratios_by_step.append(pulse_ratios[i])\n",
    "\n",
    "# Calculate stretch ratios for each original step\n",
    "# Adapted from Euclidean stretch\n",
    "step_stretch_ratios = []\n",
    "for i in range(min(len(original_pulse_lengths), len(target_pulse_lengths))):\n",
    "    # Pulse lengths\n",
    "    opl = original_pulse_lengths[i]\n",
    "    tpl = target_pulse_lengths[i]\n",
    "    \n",
    "    # Use steps as original pulse rhythm (\"opr\")\n",
    "    opr = [1] * len(original_rhythm)\n",
    "\n",
    "    # Generate target pulse rhythm (\"tpr\") using Bjorklund's algorithm\n",
    "    tpr = bjorklund.bjorklund(pulses=opl, steps=tpl)\n",
    "    tpr_pulse_lengths = fib.calculate_pulse_lengths(tpr)\n",
    "    tpr_pulse_ratios = fib.calculate_pulse_ratios(opr, tpr)\n",
    "    \n",
    "    # Scale the tpr pulse ratios by the corresponding ratio from pulse_ratios_by_step\n",
    "    tpr_pulse_ratios *= pulse_ratios_by_step[i]\n",
    "\n",
    "    step_stretch_ratios.extend(tpr_pulse_ratios)\n",
    "    \n",
    "step_stretch_ratios"
   ]
  },
  {
   "cell_type": "code",
   "execution_count": null,
   "metadata": {
    "collapsed": true
   },
   "outputs": [],
   "source": []
  }
 ],
 "metadata": {
  "kernelspec": {
   "display_name": "Python 2",
   "language": "python",
   "name": "python2"
  },
  "language_info": {
   "codemirror_mode": {
    "name": "ipython",
    "version": 2
   },
   "file_extension": ".py",
   "mimetype": "text/x-python",
   "name": "python",
   "nbconvert_exporter": "python",
   "pygments_lexer": "ipython2",
   "version": "2.7.13"
  }
 },
 "nbformat": 4,
 "nbformat_minor": 2
}
