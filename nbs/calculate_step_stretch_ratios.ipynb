{
 "cells": [
  {
   "cell_type": "markdown",
   "metadata": {},
   "source": [
    "Getting stretch ratios for each step"
   ]
  },
  {
   "cell_type": "code",
   "execution_count": 14,
   "metadata": {
    "collapsed": true
   },
   "outputs": [],
   "source": [
    "# Imports\n",
    "%matplotlib inline\n",
    "import pardir; pardir.pardir() # Allow imports from parent directory\n",
    "import fibonaccistretch as fib\n",
    "import bjorklund"
   ]
  },
  {
   "cell_type": "code",
   "execution_count": 3,
   "metadata": {
    "collapsed": true
   },
   "outputs": [],
   "source": [
    "# Setting up basics\n",
    "original_rhythm = [1,0,0,1,0,0,1,0]\n",
    "target_rhythm = [1,0,0,0,0,1,0,0,0,0,1,0,0]"
   ]
  },
  {
   "cell_type": "code",
   "execution_count": 5,
   "metadata": {
    "collapsed": false
   },
   "outputs": [
    {
     "data": {
      "text/plain": [
       "array([ 0.6       ,  0.6       ,  0.66666667])"
      ]
     },
     "execution_count": 5,
     "metadata": {},
     "output_type": "execute_result"
    }
   ],
   "source": [
    "fib.calculate_pulse_ratios(original_rhythm, target_rhythm)"
   ]
  },
  {
   "cell_type": "code",
   "execution_count": 6,
   "metadata": {
    "collapsed": false
   },
   "outputs": [
    {
     "data": {
      "text/plain": [
       "array([3, 3, 2])"
      ]
     },
     "execution_count": 6,
     "metadata": {},
     "output_type": "execute_result"
    }
   ],
   "source": [
    "fib.calculate_pulse_lengths(original_rhythm)"
   ]
  },
  {
   "cell_type": "code",
   "execution_count": 10,
   "metadata": {
    "collapsed": false
   },
   "outputs": [
    {
     "data": {
      "text/plain": [
       "array([ 0.2       ,  0.2       ,  0.33333333])"
      ]
     },
     "execution_count": 10,
     "metadata": {},
     "output_type": "execute_result"
    }
   ],
   "source": [
    "fib.calculate_pulse_ratios([1]*len(original_rhythm), target_rhythm)"
   ]
  },
  {
   "cell_type": "code",
   "execution_count": 7,
   "metadata": {
    "collapsed": false
   },
   "outputs": [
    {
     "data": {
      "text/plain": [
       "[1, 1, 1, 1, 1, 1, 1, 1]"
      ]
     },
     "execution_count": 7,
     "metadata": {},
     "output_type": "execute_result"
    }
   ],
   "source": [
    "[1]*8"
   ]
  },
  {
   "cell_type": "code",
   "execution_count": 11,
   "metadata": {
    "collapsed": false
   },
   "outputs": [
    {
     "data": {
      "text/plain": [
       "array([5, 5, 3])"
      ]
     },
     "execution_count": 11,
     "metadata": {},
     "output_type": "execute_result"
    }
   ],
   "source": [
    "fib.calculate_pulse_lengths(target_rhythm)"
   ]
  },
  {
   "cell_type": "code",
   "execution_count": 18,
   "metadata": {
    "collapsed": false
   },
   "outputs": [
    {
     "data": {
      "text/plain": [
       "array([ 0.5,  0.5,  1. ])"
      ]
     },
     "execution_count": 18,
     "metadata": {},
     "output_type": "execute_result"
    }
   ],
   "source": [
    "# Original and target pulse lengths; just take the first one from each for now\n",
    "opl = fib.calculate_pulse_lengths(original_rhythm)[0]\n",
    "tpl = fib.calculate_pulse_lengths(target_rhythm)[0]\n",
    "\n",
    "# Adapted from Euclidean stretch\n",
    "opr = [1] * len(original_rhythm)\n",
    "\n",
    "# Generate target pulse rhythm (\"tpr\")\n",
    "tpr = bjorklund.bjorklund(pulses=opl, steps=tpl)\n",
    "tpr_pulse_lengths = fib.calculate_pulse_lengths(tpr)\n",
    "tpr_pulse_ratios = fib.calculate_pulse_ratios(opr, tpr)\n",
    "\n",
    "tpr_pulse_ratios"
   ]
  },
  {
   "cell_type": "code",
   "execution_count": 21,
   "metadata": {
    "collapsed": false
   },
   "outputs": [
    {
     "data": {
      "text/plain": [
       "[0.59999999999999998,\n",
       " 0.59999999999999998,\n",
       " 0.59999999999999998,\n",
       " 0.59999999999999998,\n",
       " 0.59999999999999998,\n",
       " 0.59999999999999998,\n",
       " 0.66666666666666663,\n",
       " 0.66666666666666663]"
      ]
     },
     "execution_count": 21,
     "metadata": {},
     "output_type": "execute_result"
    }
   ],
   "source": [
    "# Format pulse ratios so there's one for each step\n",
    "original_pulse_lengths = fib.calculate_pulse_lengths(original_rhythm)\n",
    "pulse_ratios = fib.calculate_pulse_ratios(original_rhythm, target_rhythm)\n",
    "pulse_ratios_by_step = []\n",
    "for i,pulse_length in enumerate(original_pulse_lengths):\n",
    "    for _ in range(pulse_length):\n",
    "        pulse_ratios_by_step.append(pulse_ratios[i])\n",
    "pulse_ratios_by_step"
   ]
  },
  {
   "cell_type": "markdown",
   "metadata": {},
   "source": [
    "Putting it all together!"
   ]
  },
  {
   "cell_type": "code",
   "execution_count": 88,
   "metadata": {
    "collapsed": false
   },
   "outputs": [
    {
     "data": {
      "text/plain": [
       "[0.29999999999999999,\n",
       " 0.29999999999999999,\n",
       " 0.59999999999999998,\n",
       " 0.29999999999999999,\n",
       " 0.29999999999999999,\n",
       " 0.59999999999999998,\n",
       " 0.59999999999999998,\n",
       " 0.29999999999999999]"
      ]
     },
     "execution_count": 88,
     "metadata": {},
     "output_type": "execute_result"
    }
   ],
   "source": [
    "def calculate_step_stretch_ratios(original_rhythm, target_rhythm):\n",
    "    # Original and target pulse lengths\n",
    "    original_pulse_lengths = fib.calculate_pulse_lengths(original_rhythm)\n",
    "    target_pulse_lengths = fib.calculate_pulse_lengths(target_rhythm)\n",
    "\n",
    "    # Pulse ratios\n",
    "    # Format pulse ratios so there's one for each step\n",
    "    pulse_ratios = fib.calculate_pulse_ratios(original_rhythm, target_rhythm)\n",
    "    pulse_ratios_by_step = []\n",
    "    for i,pulse_length in enumerate(original_pulse_lengths):\n",
    "        for _ in range(pulse_length):\n",
    "            pulse_ratios_by_step.append(pulse_ratios[i])\n",
    "\n",
    "    # Calculate stretch ratios for each original step\n",
    "    # Adapted from Euclidean stretch\n",
    "    step_stretch_ratios = []\n",
    "    for i in range(min(len(original_pulse_lengths), len(target_pulse_lengths))):\n",
    "        # Pulse lengths\n",
    "        opl = original_pulse_lengths[i]\n",
    "        tpl = target_pulse_lengths[i]\n",
    "\n",
    "        # Use steps as original pulse rhythm (\"opr\")\n",
    "        opr = [1] * len(original_rhythm)\n",
    "\n",
    "        # Generate target pulse rhythm (\"tpr\") using Bjorklund's algorithm\n",
    "        tpr = bjorklund.bjorklund(pulses=opl, steps=tpl)\n",
    "        tpr_pulse_lengths = fib.calculate_pulse_lengths(tpr)\n",
    "        tpr_pulse_ratios = fib.calculate_pulse_ratios(opr, tpr)\n",
    "\n",
    "        # Scale the tpr pulse ratios by the corresponding ratio from pulse_ratios_by_step\n",
    "        tpr_pulse_ratios *= pulse_ratios_by_step[i]\n",
    "\n",
    "        step_stretch_ratios.extend(tpr_pulse_ratios)\n",
    "    \n",
    "    return step_stretch_ratios\n",
    "\n",
    "step_stretch_ratios = calculate_step_stretch_ratios(original_rhythm, target_rhythm)\n",
    "step_stretch_ratios"
   ]
  },
  {
   "cell_type": "code",
   "execution_count": 55,
   "metadata": {
    "collapsed": false
   },
   "outputs": [
    {
     "data": {
      "text/plain": [
       "0.41249999999999998"
      ]
     },
     "execution_count": 55,
     "metadata": {},
     "output_type": "execute_result"
    }
   ],
   "source": [
    "sum(step_stretch_ratios) / len(original_rhythm)"
   ]
  },
  {
   "cell_type": "code",
   "execution_count": 56,
   "metadata": {
    "collapsed": false
   },
   "outputs": [
    {
     "data": {
      "text/plain": [
       "[1.0, 1.0, 1.0, 1.0, 1.0, 1.0, 1.0, 1.0]"
      ]
     },
     "execution_count": 56,
     "metadata": {},
     "output_type": "execute_result"
    }
   ],
   "source": [
    "step_stretch_ratios = calculate_step_stretch_ratios(original_rhythm, original_rhythm)\n",
    "step_stretch_ratios"
   ]
  },
  {
   "cell_type": "code",
   "execution_count": 57,
   "metadata": {
    "collapsed": false
   },
   "outputs": [
    {
     "data": {
      "text/plain": [
       "1.0"
      ]
     },
     "execution_count": 57,
     "metadata": {},
     "output_type": "execute_result"
    }
   ],
   "source": [
    "sum(step_stretch_ratios) / len(original_rhythm)"
   ]
  },
  {
   "cell_type": "markdown",
   "metadata": {},
   "source": [
    "The sum divided by length should add up to 1...\n",
    "\n",
    "Maybe we need to subdivide it further?\n",
    "\n",
    "Or oh there's the \"stretch multiplier\""
   ]
  },
  {
   "cell_type": "code",
   "execution_count": 63,
   "metadata": {
    "collapsed": false
   },
   "outputs": [
    {
     "name": "stdout",
     "output_type": "stream",
     "text": [
      "[ 0.5  0.5  1. ]\n",
      "[ 0.5  0.5  1. ]\n",
      "[ 1.   0.5]\n"
     ]
    },
    {
     "data": {
      "text/plain": [
       "[0.29999999999999999,\n",
       " 0.29999999999999999,\n",
       " 0.59999999999999998,\n",
       " 0.29999999999999999,\n",
       " 0.29999999999999999,\n",
       " 0.59999999999999998,\n",
       " 0.59999999999999998,\n",
       " 0.29999999999999999]"
      ]
     },
     "execution_count": 63,
     "metadata": {},
     "output_type": "execute_result"
    }
   ],
   "source": []
  },
  {
   "cell_type": "code",
   "execution_count": 89,
   "metadata": {
    "collapsed": false
   },
   "outputs": [
    {
     "data": {
      "text/plain": [
       "2.4242424242424243"
      ]
     },
     "execution_count": 89,
     "metadata": {},
     "output_type": "execute_result"
    }
   ],
   "source": [
    "stretch_multiplier = 1.0 / (sum(step_stretch_ratios) / len(original_rhythm))\n",
    "stretch_multiplier"
   ]
  },
  {
   "cell_type": "code",
   "execution_count": 90,
   "metadata": {
    "collapsed": false
   },
   "outputs": [
    {
     "data": {
      "text/plain": [
       "[0.72727272727272729,\n",
       " 0.72727272727272729,\n",
       " 1.4545454545454546,\n",
       " 0.72727272727272729,\n",
       " 0.72727272727272729,\n",
       " 1.4545454545454546,\n",
       " 1.4545454545454546,\n",
       " 0.72727272727272729]"
      ]
     },
     "execution_count": 90,
     "metadata": {},
     "output_type": "execute_result"
    }
   ],
   "source": [
    "step_stretch_ratios = [r * stretch_multiplier for r in step_stretch_ratios]\n",
    "step_stretch_ratios"
   ]
  },
  {
   "cell_type": "code",
   "execution_count": 91,
   "metadata": {
    "collapsed": false
   },
   "outputs": [
    {
     "data": {
      "text/plain": [
       "1.0"
      ]
     },
     "execution_count": 91,
     "metadata": {},
     "output_type": "execute_result"
    }
   ],
   "source": [
    "sum(step_stretch_ratios) / len(original_rhythm)"
   ]
  },
  {
   "cell_type": "markdown",
   "metadata": {},
   "source": [
    "OK, so revised with `stretch_multiplier`:"
   ]
  },
  {
   "cell_type": "code",
   "execution_count": 137,
   "metadata": {
    "collapsed": false
   },
   "outputs": [
    {
     "data": {
      "text/plain": [
       "[0.72727272727272729,\n",
       " 0.72727272727272729,\n",
       " 1.4545454545454546,\n",
       " 0.72727272727272729,\n",
       " 0.72727272727272729,\n",
       " 1.4545454545454546,\n",
       " 1.4545454545454546,\n",
       " 0.72727272727272729]"
      ]
     },
     "execution_count": 137,
     "metadata": {},
     "output_type": "execute_result"
    }
   ],
   "source": [
    "def calculate_step_stretch_ratios(original_rhythm, target_rhythm):\n",
    "    # Original and target pulse lengths\n",
    "    original_pulse_lengths = list(fib.calculate_pulse_lengths(original_rhythm))\n",
    "    target_pulse_lengths = list(fib.calculate_pulse_lengths(target_rhythm))\n",
    "\n",
    "    # Pulse ratios\n",
    "    # Format pulse ratios so there's one for each step\n",
    "    pulse_ratios = list(fib.calculate_pulse_ratios(original_rhythm, target_rhythm))\n",
    "    if len(pulse_ratios) < len(original_pulse_lengths):  # Add 0s to pulse ratios if there aren't enough\n",
    "        for _ in range(len(original_pulse_lengths) - len(pulse_ratios)):\n",
    "            pulse_ratios.append(0.0)\n",
    "    assert(len(pulse_ratios) == len(original_pulse_lengths))\n",
    "    pulse_ratios_by_step = []\n",
    "    for i,pulse_length in enumerate(original_pulse_lengths):\n",
    "        for _ in range(pulse_length):\n",
    "            pulse_ratios_by_step.append(pulse_ratios[i])\n",
    "\n",
    "    # Calculate stretch ratios for each original step\n",
    "    # Adapted from Euclidean stretch\n",
    "    step_stretch_ratios = []\n",
    "    for i in range(min(len(original_pulse_lengths), len(target_pulse_lengths))):\n",
    "        # Pulse lengths\n",
    "        opl = original_pulse_lengths[i]\n",
    "        tpl = target_pulse_lengths[i]\n",
    "        \n",
    "        # Adjust target pulse length if it's too small\n",
    "        #if opl > tpl:\n",
    "        #    tpl = opl\n",
    "        while opl > tpl:\n",
    "           tpl *= 2\n",
    "\n",
    "        # Use steps as original pulse rhythm (\"opr\")\n",
    "        opr = [1] * len(original_rhythm)\n",
    "\n",
    "        # Generate target pulse rhythm (\"tpr\") using Bjorklund's algorithm\n",
    "        tpr = bjorklund.bjorklund(pulses=opl, steps=tpl)\n",
    "        tpr_pulse_lengths = fib.calculate_pulse_lengths(tpr)\n",
    "        tpr_pulse_ratios = fib.calculate_pulse_ratios(opr, tpr)\n",
    "\n",
    "        # Scale the tpr pulse ratios by the corresponding ratio from pulse_ratios_by_step\n",
    "        tpr_pulse_ratios *= pulse_ratios_by_step[i]\n",
    "\n",
    "        step_stretch_ratios.extend(tpr_pulse_ratios)\n",
    "        \n",
    "    # Multiply by stretch multiplier to make sure the length is the same as original\n",
    "    stretch_multiplier = 1.0 / (sum(step_stretch_ratios) / len(original_rhythm))\n",
    "    step_stretch_ratios = [r * stretch_multiplier for r in step_stretch_ratios]\n",
    "    assert(round(sum(step_stretch_ratios) / len(original_rhythm), 5) == 1)  # Make sure it's *close enough* to original length.\n",
    "    \n",
    "    return step_stretch_ratios\n",
    "\n",
    "step_stretch_ratios = calculate_step_stretch_ratios(original_rhythm, target_rhythm)\n",
    "step_stretch_ratios"
   ]
  },
  {
   "cell_type": "code",
   "execution_count": 138,
   "metadata": {
    "collapsed": false,
    "scrolled": true
   },
   "outputs": [
    {
     "data": {
      "text/plain": [
       "[1.6000000000000001,\n",
       " 1.6000000000000001,\n",
       " 0.80000000000000004,\n",
       " 1.6000000000000001,\n",
       " 1.6000000000000001,\n",
       " 0.80000000000000004]"
      ]
     },
     "execution_count": 138,
     "metadata": {},
     "output_type": "execute_result"
    }
   ],
   "source": [
    "calculate_step_stretch_ratios(original_rhythm, [1,0,1])\n",
    "# fib.calculate_pulse_ratios(original_rhythm, [1,0,1])"
   ]
  },
  {
   "cell_type": "code",
   "execution_count": 120,
   "metadata": {
    "collapsed": false
   },
   "outputs": [],
   "source": [
    "round?"
   ]
  },
  {
   "cell_type": "code",
   "execution_count": 139,
   "metadata": {
    "collapsed": false
   },
   "outputs": [
    {
     "data": {
      "text/plain": [
       "<module 'fibonaccistretch' from '/Users/usdivad/Documents/tech/fibonacciswing/nbs/../fibonaccistretch.py'>"
      ]
     },
     "execution_count": 139,
     "metadata": {},
     "output_type": "execute_result"
    }
   ],
   "source": [
    "reload(fib)"
   ]
  },
  {
   "cell_type": "code",
   "execution_count": 135,
   "metadata": {
    "collapsed": false
   },
   "outputs": [
    {
     "data": {
      "text/plain": [
       "array([ 1.,  0.,  0.,  1.,  0.,  0.,  1.,  0.,  0.,  0.,  0.,  0.])"
      ]
     },
     "execution_count": 135,
     "metadata": {},
     "output_type": "execute_result"
    }
   ],
   "source": [
    "# import numpy as np\n",
    "# a = np.array(original_rhythm)\n",
    "# b = np.zeros(4)\n",
    "# np.hstack((a, b))"
   ]
  },
  {
   "cell_type": "code",
   "execution_count": 140,
   "metadata": {
    "collapsed": false
   },
   "outputs": [
    {
     "data": {
      "text/plain": [
       "[0.72727272727272729,\n",
       " 0.72727272727272729,\n",
       " 1.4545454545454546,\n",
       " 0.72727272727272729,\n",
       " 0.72727272727272729,\n",
       " 1.4545454545454546,\n",
       " 1.4545454545454546,\n",
       " 0.72727272727272729]"
      ]
     },
     "execution_count": 140,
     "metadata": {},
     "output_type": "execute_result"
    }
   ],
   "source": [
    "fib.calculate_step_stretch_ratios(original_rhythm, target_rhythm)"
   ]
  },
  {
   "cell_type": "code",
   "execution_count": null,
   "metadata": {
    "collapsed": true
   },
   "outputs": [],
   "source": []
  }
 ],
 "metadata": {
  "kernelspec": {
   "display_name": "Python 2",
   "language": "python",
   "name": "python2"
  },
  "language_info": {
   "codemirror_mode": {
    "name": "ipython",
    "version": 2
   },
   "file_extension": ".py",
   "mimetype": "text/x-python",
   "name": "python",
   "nbconvert_exporter": "python",
   "pygments_lexer": "ipython2",
   "version": "2.7.13"
  }
 },
 "nbformat": 4,
 "nbformat_minor": 2
}
