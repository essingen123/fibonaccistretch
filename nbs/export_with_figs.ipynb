{
 "cells": [
  {
   "cell_type": "markdown",
   "metadata": {},
   "source": [
    "## 1. HTMLExporter with figs"
   ]
  },
  {
   "cell_type": "code",
   "execution_count": null,
   "metadata": {
    "collapsed": false
   },
   "outputs": [],
   "source": [
    "import nbformat\n",
    "nb_raw = \"\"\n",
    "with open(\"tmp_fibonaccistretch_executed.nbconvert.ipynb\", \"r\") as f:\n",
    "    nb_raw = f.read()\n",
    "nb = nbformat.reads(nb_raw, as_version=4)"
   ]
  },
  {
   "cell_type": "code",
   "execution_count": null,
   "metadata": {
    "collapsed": false
   },
   "outputs": [],
   "source": [
    "str(nb.cells[6])[:1000]\n",
    "print(str(nb.cells[12])[:2000])\n",
    "# nb.cells[12]"
   ]
  },
  {
   "cell_type": "code",
   "execution_count": null,
   "metadata": {
    "collapsed": true
   },
   "outputs": [],
   "source": [
    "# from traitlets.config import Config\n",
    "\n",
    "# # 1. Import the exporter\n",
    "# from nbconvert import HTMLExporter\n",
    "\n",
    "# # 2. Instantiate the exporter. We use the `basic` template for now; we'll get into more details\n",
    "# # later about how to customize the exporter further.\n",
    "# html_exporter = HTMLExporter()\n",
    "# html_exporter.template_file = 'basic'\n",
    "\n",
    "# # 3. Process the notebook we loaded earlier\n",
    "# (body, resources) = html_exporter.from_notebook_node(jake_notebook)"
   ]
  },
  {
   "cell_type": "code",
   "execution_count": null,
   "metadata": {
    "collapsed": false
   },
   "outputs": [],
   "source": [
    "# create a configuration object that changes the preprocessors\n",
    "from traitlets.config import Config\n",
    "from nbconvert import HTMLExporter\n",
    "\n",
    "c = Config()\n",
    "c.HTMLExporter.preprocessors = ['nbconvert.preprocessors.ExtractOutputPreprocessor']\n",
    "\n",
    "# create the new exporter using the custom config\n",
    "html_exporter_with_figs = HTMLExporter(config=c)\n",
    "html_exporter_with_figs.preprocessors"
   ]
  },
  {
   "cell_type": "code",
   "execution_count": null,
   "metadata": {
    "collapsed": false
   },
   "outputs": [],
   "source": [
    "(body, resources) = html_exporter_with_figs.from_notebook_node(nb)\n",
    "\n",
    "print(\"\\nresources with extracted figures (notice that there's one more field called 'outputs'):\")\n",
    "print(sorted(resources.keys()))\n",
    "\n",
    "print(\"\\nthe actual figures are:\")\n",
    "print(sorted(resources['outputs'].keys()))"
   ]
  },
  {
   "cell_type": "code",
   "execution_count": null,
   "metadata": {
    "collapsed": true
   },
   "outputs": [],
   "source": [
    "with open(\"fibonaccistretch_with_figs.html\", \"w\") as f:\n",
    "    f.write(body)"
   ]
  },
  {
   "cell_type": "code",
   "execution_count": null,
   "metadata": {
    "collapsed": false
   },
   "outputs": [],
   "source": [
    "resources[\"outputs\"][sorted(resources[\"outputs\"].keys())[0]][:100]"
   ]
  },
  {
   "cell_type": "code",
   "execution_count": null,
   "metadata": {
    "collapsed": false
   },
   "outputs": [],
   "source": [
    "import os\n",
    "\n",
    "figs_dir = \"data/figs\"\n",
    "for k in resources[\"outputs\"].keys():\n",
    "    v = resources[\"outputs\"][k]\n",
    "    path = os.path.join(figs_dir, k)\n",
    "    print(path)\n",
    "    with open(path, \"wb\") as f:\n",
    "        f.write(v)"
   ]
  },
  {
   "cell_type": "code",
   "execution_count": null,
   "metadata": {
    "collapsed": true
   },
   "outputs": [],
   "source": []
  }
 ],
 "metadata": {
  "kernelspec": {
   "display_name": "Python 2",
   "language": "python",
   "name": "python2"
  },
  "language_info": {
   "codemirror_mode": {
    "name": "ipython",
    "version": 2
   },
   "file_extension": ".py",
   "mimetype": "text/x-python",
   "name": "python",
   "nbconvert_exporter": "python",
   "pygments_lexer": "ipython2",
   "version": "2.7.13"
  }
 },
 "nbformat": 4,
 "nbformat_minor": 2
}
