{
 "cells": [
  {
   "cell_type": "markdown",
   "metadata": {},
   "source": [
    "# Fibonacci Stretch: Examples\n",
    "\n",
    "by [David Su](http://usdivad.com/)\n",
    "\n",
    "\n",
    "Here are some audio examples of the Fibonacci stretch algorithm in action; this notebook and its associated code are also available on [GitHub](https://github.com/usdivad/fibonaccistretch)."
   ]
  },
  {
   "cell_type": "markdown",
   "metadata": {},
   "source": [
    "### Setup\n",
    "\n",
    "First, let's import everything we need, namely the `fibonaccistretch` module (which you can find [here](https://github.com/usdivad/fibonaccistretch/blob/master/fibonaccistretch.py)):"
   ]
  },
  {
   "cell_type": "code",
   "execution_count": null,
   "metadata": {
    "collapsed": false
   },
   "outputs": [],
   "source": [
    "%matplotlib inline\n",
    "import pardir; pardir.pardir() # Allow imports from parent directory\n",
    "from fibonaccistretch import fibonacci_stretch_track"
   ]
  },
  {
   "cell_type": "markdown",
   "metadata": {},
   "source": [
    "And let's also define some variables for convenience:"
   ]
  },
  {
   "cell_type": "code",
   "execution_count": null,
   "metadata": {
    "collapsed": true
   },
   "outputs": [],
   "source": [
    "tresillo_rhythm = [1,0,0,1,0,0,1,0]"
   ]
  },
  {
   "cell_type": "markdown",
   "metadata": {},
   "source": [
    "### \"Human Nature\" stretched by a factor of 1"
   ]
  },
  {
   "cell_type": "markdown",
   "metadata": {},
   "source": [
    "For our first example we'll stretch Michael Jackson's \"[Human Nature](https://open.spotify.com/track/4cgjA7B4fJBHyB9Ya2bu0t)\", off of his 1982 album *Thriller*.\n",
    "\n",
    "We're using the tresillo rhythm as the `original_rhythm` and a `stretch_factor` of 1, which means `[1,0,0,1,0,0,1,0]` (with pulse lengths `[3,3,2]`) will get expanded to `[1,0,0,0,0,1,0,0,0,0,1,0,0]` (with pulse lengths `[5,5,3]`), as each pulse length is scaled along Fibonacci sequence by an index of +1:"
   ]
  },
  {
   "cell_type": "code",
   "execution_count": null,
   "metadata": {
    "collapsed": false
   },
   "outputs": [],
   "source": [
    "# \"Human Nature\" stretched by a factor of 1 using default parameters\n",
    "fibonacci_stretch_track(\"../data/humannature_90s.mp3\",\n",
    "                        original_rhythm=tresillo_rhythm,\n",
    "                        stretch_factor=1,\n",
    "                        tempo=93.0)"
   ]
  },
  {
   "cell_type": "markdown",
   "metadata": {},
   "source": [
    "### \"Human Nature\" stretched by a factor of 2"
   ]
  },
  {
   "cell_type": "markdown",
   "metadata": {},
   "source": [
    "With a `stretch_factor` of 2, the tresillo rhythm `[1,0,0,1,0,0,1,0]` (with pulse lengths `[3,3,2]`) is expanded to `[1,0,0,0,0,0,0,0,1,0,0,0,0,0,0,0,1,0,0,0,0]` (with pulse lengths `[8,8,5]`):"
   ]
  },
  {
   "cell_type": "code",
   "execution_count": null,
   "metadata": {
    "collapsed": false,
    "scrolled": true
   },
   "outputs": [],
   "source": [
    "# \"Human Nature\" stretched by a factor of 2\n",
    "fibonacci_stretch_track(\"../data/humannature_30s.mp3\",\n",
    "                        original_rhythm=tresillo_rhythm,\n",
    "                        stretch_factor=2,\n",
    "                        tempo=93.0,\n",
    "                        overlay_clicks=True)"
   ]
  },
  {
   "cell_type": "markdown",
   "metadata": {},
   "source": [
    "### \"Chan Chan\" stretched by a factor of -1\n",
    "We can contract rhythms as well using negative numbers as our `stretch_factor`. Let's try that with \"[Chan Chan](https://open.spotify.com/track/7DqTaelFf846rl1CHmyfOW)\" by the Buena Vista Social Club:"
   ]
  },
  {
   "cell_type": "code",
   "execution_count": null,
   "metadata": {
    "collapsed": false,
    "scrolled": false
   },
   "outputs": [],
   "source": [
    "# \"Chan Chan\" stretched by a factor of -1\n",
    "fibonacci_stretch_track(\"../data/chanchan_30s.mp3\",\n",
    "                        original_rhythm=tresillo_rhythm,\n",
    "                        stretch_factor=-1,\n",
    "                        tempo=78.5)"
   ]
  },
  {
   "cell_type": "markdown",
   "metadata": {},
   "source": [
    "(Note that although we do end up with a perceptible difference (the song now sounds like it's in 7/8), it should actually sound like it's in 5/8, since `[1 0 0 1 0 0 1 0]` is getting compressed to `[1 0 1 0 1]`. This is an implementation detail with the Euclidean stretch method that needs to be fixed.)"
   ]
  },
  {
   "cell_type": "markdown",
   "metadata": {},
   "source": [
    "### \"I'm the One\" stretched by a factor of 1, with custom original rhythm\n",
    "\n",
    "In order to get musically meaningful results we generally want to supply parameters that make musical sense with our input audio (although it can certainly be interesting to try with parameters that don't!). One of the parameters that makes the most difference in results is the rhythm sequence used to represent each measure.\n",
    "\n",
    "Here's Chance the Rapper's verse from DJ Khaled's \"[I'm the One](https://www.youtube.com/watch?v=weeI1G46q0o&t=2m28s)\", with a custom `original_rhythm` that matches the bassline of the song:"
   ]
  },
  {
   "cell_type": "code",
   "execution_count": null,
   "metadata": {
    "collapsed": false
   },
   "outputs": [],
   "source": [
    "# \"I'm the One\" stretched by a factor of 1\n",
    "fibonacci_stretch_track(\"../data/imtheone_cropped_chance_60s.mp3\",\n",
    "                        original_rhythm=[1,0,0,0,0,1,0,0],\n",
    "                        stretch_factor=1,\n",
    "                        tempo=162)"
   ]
  },
  {
   "cell_type": "markdown",
   "metadata": {},
   "source": [
    "### \"I'm the One\" expanded using custom original and target rhythms\n",
    "\n",
    "We can define both a custom target rhythm as well. In addition, neither `original_rhythm` nor `target_rhythm` have to be Fibonacci rhythms for the stretch algorithm to work (although with this implementation they do both have to have the same number of pulses).\n",
    "\n",
    "Let's try that out with the same verse, going from an original rhythm with 8 steps (i.e. in 4/4 meter) to a target rhythm with 10 steps (i.e. in 5/4 meter):"
   ]
  },
  {
   "cell_type": "code",
   "execution_count": null,
   "metadata": {
    "collapsed": false,
    "scrolled": false
   },
   "outputs": [],
   "source": [
    "# \"I'm the One\" in 5/4\n",
    "fibonacci_stretch_track(\"../data/imtheone_cropped_chance_60s.mp3\",\n",
    "                        original_rhythm=[1,0,0,0,0,1,0,0],\n",
    "                        target_rhythm=[1,0,0,0,0,1,0,0,0,0],\n",
    "                        tempo=162,\n",
    "                        overlay_clicks=True)"
   ]
  },
  {
   "cell_type": "markdown",
   "metadata": {},
   "source": [
    "### \"Hold Up\" contracted using custom original and target rhythms\n",
    "\n",
    "We can apply contractions simply by supplying a target rhythm that is shorter in length than the original rhythm. Here's an example with Beyonce's \"[Hold Up](https://www.youtube.com/watch?v=PeonBmeFR8o)\":"
   ]
  },
  {
   "cell_type": "code",
   "execution_count": null,
   "metadata": {
    "collapsed": false,
    "scrolled": true
   },
   "outputs": [],
   "source": [
    "fibonacci_stretch_track(\"../data/holdup_30s.mp3\",\n",
    "                        original_rhythm=[1,0,1,0,0,1,0,1],\n",
    "                        target_rhythm=[1,0,0,1,0,1],\n",
    "                        tempo=82)"
   ]
  },
  {
   "cell_type": "markdown",
   "metadata": {},
   "source": [
    "### \"Eine kleine Nachtmusik\" stretched into a swing feel\n",
    "\n",
    "As another example, we can give a swing feel to the first movement of Mozart's \"[Eine kleine Nachtmusik](https://imslp.org/wiki/Special:ImagefromIndex/324337/hfpn)\" (K. 525), as performed by A Far Cry:"
   ]
  },
  {
   "cell_type": "code",
   "execution_count": null,
   "metadata": {
    "collapsed": false,
    "scrolled": true
   },
   "outputs": [],
   "source": [
    "# \"Eine kleine Nachtmusik\" with a swing feel\n",
    "fibonacci_stretch_track(\"../data/einekleinenachtmusik_30s.mp3\",\n",
    "                        original_rhythm=[1,0,1,1],\n",
    "                        target_rhythm=[1,0,0,1,0,1],\n",
    "                        tempo=130)"
   ]
  },
  {
   "cell_type": "markdown",
   "metadata": {},
   "source": [
    "It works pretty decently until around `0:09`, at which point the assumption of a metronomically consistent tempo breaks down. (This is one of the biggest weaknesses with the current implementation, and is something I definitely hope to work on in the future.)"
   ]
  },
  {
   "cell_type": "markdown",
   "metadata": {},
   "source": [
    "### \"Chan Chan\" stretched into 5/4\n",
    "\n",
    "Let's also hear what \"Chan Chan\" sounds like in 5/4:"
   ]
  },
  {
   "cell_type": "code",
   "execution_count": null,
   "metadata": {
    "collapsed": false,
    "scrolled": true
   },
   "outputs": [],
   "source": [
    "# \"Chan Chan\" in 5/4\n",
    "fibonacci_stretch_track(\"../data/chanchan_30s.mp3\",\n",
    "                        original_rhythm=[1,0,0,1,0,0,0,0],\n",
    "                        target_rhythm=[1,0,0,0,0,1,0,0,0,0], # Also interesting to try with [1,0,1]\n",
    "                        tempo=78.5)"
   ]
  },
  {
   "cell_type": "markdown",
   "metadata": {},
   "source": [
    "### \"Pink + White\" stretched from 6/8 into 4/4\n",
    "\n",
    "We can also work with source audio in other meters. For example, Frank Ocean's \"[Pink + White](https://open.spotify.com/track/3xKsf9qdS1CyvXSMEid6g8)\" is in 6/8. Here I've stretched it into 4/4 using the rhythm of the bassline, but you can uncomment the other supplied parameters (or supply your own!) to hear how they sound as well:"
   ]
  },
  {
   "cell_type": "code",
   "execution_count": null,
   "metadata": {
    "collapsed": false
   },
   "outputs": [],
   "source": [
    "# \"Pink + White\" stretched by a factor of 1\n",
    "fibonacci_stretch_track(\"../data/pinkandwhite_30s.mp3\",\n",
    "                        beats_per_measure=6,\n",
    "                        tempo=160,\n",
    "                        \n",
    "                        # 6/8 to 4/4 using bassline rhythm\n",
    "                        original_rhythm=[1,1,1,1,0,0],\n",
    "                        target_rhythm=[1,1,1,0,1,0,0,0],\n",
    "                        \n",
    "                        # 6/8 to 4/4 using half notes\n",
    "                        # original_rhythm=[1,0,0,1,0,0],\n",
    "                        # target_rhythm=[1,0,0,0,1,0,0,0],\n",
    "                        \n",
    "                        # 6/8 to 10/8 (5/4) using Fibonacci stretch factor of 1\n",
    "                        # original_rhythm=[1,0,0,1,0,0],\n",
    "                        # stretch_factor=1,\n",
    "                        \n",
    "                        overlay_clicks=True)"
   ]
  },
  {
   "cell_type": "markdown",
   "metadata": {},
   "source": [
    "Download the Fibonacci stretch code from [GitHub](https://github.com/usdivad/fibonaccistretch) and play around with it yourself!"
   ]
  },
  {
   "cell_type": "code",
   "execution_count": null,
   "metadata": {
    "collapsed": true
   },
   "outputs": [],
   "source": []
  }
 ],
 "metadata": {
  "kernelspec": {
   "display_name": "Python 2",
   "language": "python",
   "name": "python2"
  },
  "language_info": {
   "codemirror_mode": {
    "name": "ipython",
    "version": 2
   },
   "file_extension": ".py",
   "mimetype": "text/x-python",
   "name": "python",
   "nbconvert_exporter": "python",
   "pygments_lexer": "ipython2",
   "version": "2.7.13"
  }
 },
 "nbformat": 4,
 "nbformat_minor": 2
}
