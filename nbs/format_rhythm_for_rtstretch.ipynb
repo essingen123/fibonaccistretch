{
 "cells": [
  {
   "cell_type": "markdown",
   "metadata": {},
   "source": [
    "Coming up with an algorithm to create target rhythm from original rhythm such that real-time time-stretching (or even real-time stuttering) is possible"
   ]
  },
  {
   "cell_type": "code",
   "execution_count": 17,
   "metadata": {
    "collapsed": true
   },
   "outputs": [],
   "source": [
    "import librosa\n",
    "import numpy as np\n",
    "\n",
    "import pardir; pardir.pardir() # Allow imports from parent directory\n",
    "import bjorklund\n",
    "import fibonaccistretch"
   ]
  },
  {
   "cell_type": "code",
   "execution_count": 2,
   "metadata": {
    "collapsed": true
   },
   "outputs": [],
   "source": [
    "librosa.effects.time_stretch??\n",
    "librosa.core.phase_vocoder??\n",
    "fibonaccistretch.euclidean_stretch??"
   ]
  },
  {
   "cell_type": "code",
   "execution_count": 7,
   "metadata": {
    "collapsed": false
   },
   "outputs": [],
   "source": []
  },
  {
   "cell_type": "code",
   "execution_count": 8,
   "metadata": {
    "collapsed": false
   },
   "outputs": [
    {
     "data": {
      "text/plain": [
       "'Original rhythm: [1, 0, 0, 1, 0, 0, 1, 0]    Target rhythm: [1, 0, 1, 1, 0, 1, 0, 1, 1, 0, 1, 0, 1]'"
      ]
     },
     "execution_count": 8,
     "metadata": {},
     "output_type": "execute_result"
    }
   ],
   "source": [
    "# Generate rhythms based on parameters\n",
    "def generate_original_and_target_rhythms(num_pulses, original_length, target_length):\n",
    "    original_rhythm = bjorklund.bjorklund(pulses=num_pulses, steps=original_length)\n",
    "    target_rhythm = bjorklund.bjorklund(pulses=len(original_rhythm), steps=target_length)\n",
    "    return (original_rhythm, target_rhythm)\n",
    "\n",
    "original_rhythm, target_rhythm = generate_original_and_target_rhythms(3, 8, 13)\n",
    "\n",
    "\"Original rhythm: {}    Target rhythm: {}\".format(original_rhythm, target_rhythm)"
   ]
  },
  {
   "cell_type": "code",
   "execution_count": 11,
   "metadata": {
    "collapsed": false
   },
   "outputs": [
    {
     "data": {
      "text/plain": [
       "104"
      ]
     },
     "execution_count": 11,
     "metadata": {},
     "output_type": "execute_result"
    }
   ],
   "source": [
    "lcm = (8*13) / fibonaccistretch.euclid(8, 13)\n",
    "lcm"
   ]
  },
  {
   "cell_type": "code",
   "execution_count": 12,
   "metadata": {
    "collapsed": false
   },
   "outputs": [
    {
     "data": {
      "text/plain": [
       "104"
      ]
     },
     "execution_count": 12,
     "metadata": {},
     "output_type": "execute_result"
    }
   ],
   "source": [
    "8*13"
   ]
  },
  {
   "cell_type": "markdown",
   "metadata": {},
   "source": [
    "Use LCM to \"equalize\" rhythms so that they're of equal length.\n",
    "\n",
    "e.g.\n",
    "\n",
    "`a = [1,0,0,1]`\n",
    "\n",
    "\n",
    "\n",
    "`b = [1,1,0]`\n",
    "\n",
    "become\n",
    "\n",
    "`equalized_a = [1,-,-,0,-,-,0,-,-,1,-,-]`\n",
    "\n",
    "\n",
    "\n",
    "`equalized_b = [1,-,-,-,1,-,-,-,0,-,-,-]`"
   ]
  },
  {
   "cell_type": "code",
   "execution_count": 29,
   "metadata": {
    "collapsed": false
   },
   "outputs": [
    {
     "name": "stdout",
     "output_type": "stream",
     "text": [
      "Original rhythm: [1, 0, 0, 1, 0, 0, 1, 0]    Target rhythm: [1, 0, 1, 1, 0, 1, 0, 1, 1, 0, 1, 0, 1]\n",
      "lcm=104, original_scale_factor=12, target_scale_factor=7\n"
     ]
    },
    {
     "data": {
      "text/plain": [
       "(104, 104)"
      ]
     },
     "execution_count": 29,
     "metadata": {},
     "output_type": "execute_result"
    }
   ],
   "source": [
    "# \"Equalize\" (i.e. scale rhythms so they're of equal length)\n",
    "def equalize_rhythm_subdivisions(original_rhythm, target_rhythm, delimiter=\"-\"):\n",
    "    original_length = len(original_rhythm)\n",
    "    target_length = len(target_rhythm)\n",
    "    lcm = (original_length*target_length) / fibonaccistretch.euclid(original_length, target_length)\n",
    "    original_scale_factor = (lcm / original_length) - 1\n",
    "    target_scale_factor = (lcm / target_length) - 1\n",
    "    \n",
    "    print(\"lcm={}, original_scale_factor={}, target_scale_factor={}\").format(lcm, original_scale_factor, target_scale_factor)\n",
    "    \n",
    "    delimiter = str(delimiter)\n",
    "    original_rhythm = list((delimiter*original_scale_factor).join([str(x) for x in original_rhythm]))\n",
    "    target_rhythm = list((delimiter*target_scale_factor).join([str(x) for x in target_rhythm]))\n",
    "    \n",
    "    original_rhythm.extend(list(delimiter*original_scale_factor))\n",
    "    target_rhythm.extend(list(delimiter*target_scale_factor))\n",
    "\n",
    "    \n",
    "    return (original_rhythm, target_rhythm)\n",
    "\n",
    "# print(scale_rhythm_subdivisions(original_rhythm, target_rhythm))\n",
    "original_rhythm, target_rhythm = generate_original_and_target_rhythms(3, 8, 13)\n",
    "print(\"Original rhythm: {}    Target rhythm: {}\".format(original_rhythm, target_rhythm))\n",
    "equalized_original_rhythm, equalized_target_rhythm = equalize_rhythm_subdivisions(original_rhythm, target_rhythm)\n",
    "(len(equalized_original_rhythm), len(equalized_target_rhythm))"
   ]
  },
  {
   "cell_type": "markdown",
   "metadata": {},
   "source": [
    "Get pulse indices so we can see how the equalized original and target relate. In particular, our goal is to create a relationship such that the original pulse indices always come first (so that they're bufferable in real-time)"
   ]
  },
  {
   "cell_type": "code",
   "execution_count": 26,
   "metadata": {
    "collapsed": false
   },
   "outputs": [
    {
     "data": {
      "text/plain": [
       "([0, 39, 78], [0, 16, 24, 40, 56, 64, 80, 96])"
      ]
     },
     "execution_count": 26,
     "metadata": {},
     "output_type": "execute_result"
    }
   ],
   "source": [
    "def get_pulse_indices_for_rhythm(rhythm, pulse_symbols=[1]):\n",
    "    pulse_symbols = [str(s) for s in pulse_symbols]\n",
    "    rhythm = [str(x) for x in rhythm]\n",
    "    pulse_indices = [i for i,symbol in enumerate(rhythm) if symbol in pulse_symbols]\n",
    "    return pulse_indices\n",
    "\n",
    "equalized_original_pulse_indices = get_pulse_indices_for_rhythm(equalized_original_rhythm)\n",
    "equalized_target_pulse_indices = get_pulse_indices_for_rhythm(equalized_target_rhythm)\n",
    "(equalized_original_pulse_indices, equalized_target_pulse_indices)"
   ]
  },
  {
   "cell_type": "markdown",
   "metadata": {},
   "source": [
    "For original we'll actually use ALL the steps instead of just pulses though. So:"
   ]
  },
  {
   "cell_type": "code",
   "execution_count": 28,
   "metadata": {
    "collapsed": false
   },
   "outputs": [
    {
     "name": "stdout",
     "output_type": "stream",
     "text": [
      "[0, 13, 26, 39, 52, 65, 78, 91]\n",
      "[0, 16, 24, 40, 56, 64, 80, 96]\n"
     ]
    }
   ],
   "source": [
    "equalized_original_pulse_indices = get_pulse_indices_for_rhythm(equalized_original_rhythm, [1,0])\n",
    "equalized_target_pulse_indices = get_pulse_indices_for_rhythm(equalized_target_rhythm, [1])\n",
    "print(equalized_original_pulse_indicesequalized_target_pulse_indices)"
   ]
  },
  {
   "cell_type": "markdown",
   "metadata": {},
   "source": [
    "Now we can check to see if all the original pulse indices come first (this is our goal):"
   ]
  },
  {
   "cell_type": "code",
   "execution_count": 35,
   "metadata": {
    "collapsed": false
   },
   "outputs": [
    {
     "name": "stdout",
     "output_type": "stream",
     "text": [
      "Oh no; original pulse at 26 comes after target pulse at 24 (diff=2)\n",
      "Oh no; original pulse at 65 comes after target pulse at 64 (diff=1)\n"
     ]
    }
   ],
   "source": [
    "for i in range(len(equalized_original_pulse_indices)):\n",
    "    opi = equalized_original_pulse_indices[i]\n",
    "    tpi = equalized_target_pulse_indices[i]\n",
    "    if (opi > tpi):\n",
    "        print(\"Oh no; original pulse at {} comes after target pulse at {} (diff={})\".format(opi, tpi, opi-tpi))"
   ]
  },
  {
   "cell_type": "markdown",
   "metadata": {},
   "source": [
    "Oh no..."
   ]
  },
  {
   "cell_type": "code",
   "execution_count": null,
   "metadata": {
    "collapsed": true
   },
   "outputs": [],
   "source": []
  },
  {
   "cell_type": "code",
   "execution_count": null,
   "metadata": {
    "collapsed": true
   },
   "outputs": [],
   "source": []
  },
  {
   "cell_type": "code",
   "execution_count": 18,
   "metadata": {
    "collapsed": true
   },
   "outputs": [],
   "source": [
    "np.indices?"
   ]
  },
  {
   "cell_type": "code",
   "execution_count": 14,
   "metadata": {
    "collapsed": false
   },
   "outputs": [
    {
     "data": {
      "text/plain": [
       "'2-3-4'"
      ]
     },
     "execution_count": 14,
     "metadata": {},
     "output_type": "execute_result"
    }
   ],
   "source": [
    "\"0\"*4\n",
    "\"-\".join([str(x) for x in [2,3,4]])"
   ]
  },
  {
   "cell_type": "code",
   "execution_count": null,
   "metadata": {
    "collapsed": false
   },
   "outputs": [],
   "source": []
  },
  {
   "cell_type": "code",
   "execution_count": 15,
   "metadata": {
    "collapsed": false
   },
   "outputs": [
    {
     "name": "stdout",
     "output_type": "stream",
     "text": [
      "a\n",
      "b\n"
     ]
    }
   ],
   "source": [
    "print(\"a\"); print(\"b\")"
   ]
  },
  {
   "cell_type": "code",
   "execution_count": null,
   "metadata": {
    "collapsed": true
   },
   "outputs": [],
   "source": []
  }
 ],
 "metadata": {
  "kernelspec": {
   "display_name": "Python 2",
   "language": "python",
   "name": "python2"
  },
  "language_info": {
   "codemirror_mode": {
    "name": "ipython",
    "version": 2
   },
   "file_extension": ".py",
   "mimetype": "text/x-python",
   "name": "python",
   "nbconvert_exporter": "python",
   "pygments_lexer": "ipython2",
   "version": "2.7.13"
  }
 },
 "nbformat": 4,
 "nbformat_minor": 2
}
