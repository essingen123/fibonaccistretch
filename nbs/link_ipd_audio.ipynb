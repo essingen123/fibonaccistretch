{
 "cells": [
  {
   "cell_type": "markdown",
   "metadata": {},
   "source": [
    "Link audio to mp3 files, for an exported Jupyter notebook in HTML format. Also do some HTML formatting and updating."
   ]
  },
  {
   "cell_type": "code",
   "execution_count": null,
   "metadata": {
    "collapsed": true
   },
   "outputs": [],
   "source": [
    "# Imports\n",
    "import re\n",
    "import os\n",
    "import sys\n",
    "import pardir; pardir.pardir() # Allow imports from parent directory"
   ]
  },
  {
   "cell_type": "code",
   "execution_count": null,
   "metadata": {
    "collapsed": true
   },
   "outputs": [],
   "source": [
    "# User-defined paths\n",
    "\n",
    "# HTML input and output\n",
    "in_filepath = \"../fibonaccistretch_with_figs.html\"\n",
    "out_filepath = \"../index.html\"\n",
    "out_title = \"Fibonacci Stretch\"\n",
    "# in_filepath = \"../fibonaccistretch_examples.html\"\n",
    "# out_filepath = \"../examples.html\"\n",
    "# out_title = \"Fibonacci Stretch: Examples\"\n",
    "\n",
    "# Directory containing zero-indexed mp3s\n",
    "data_dir = \"../data/ipd_audio/\"\n",
    "# data_dir = \"../data/ipd_audio_examples_nb/\"\n",
    "data_ext = \"mp3\"\n",
    "\n",
    "# Directory containing figures\n",
    "fig_path = \"data/figs\""
   ]
  },
  {
   "cell_type": "code",
   "execution_count": null,
   "metadata": {
    "collapsed": false
   },
   "outputs": [],
   "source": [
    "# Read input HTML\n",
    "html = \"\"\n",
    "with open(in_filepath, \"r\") as f:\n",
    "    html = f.read()\n",
    "len(html)"
   ]
  },
  {
   "cell_type": "code",
   "execution_count": null,
   "metadata": {
    "collapsed": false
   },
   "outputs": [],
   "source": [
    "# Find <audio> elements\n",
    "# p = re.compile('<audio controls=\"controls\" >\\s*<source src=\".*\" type=\".*\" \\/>.*<\\/audio>')\n",
    "p = re.compile('<audio controls=\"controls\" >\\s*<source src=\".*\" type=\".*\" \\/>')\n",
    "matches = p.findall(html)\n",
    "len(matches)"
   ]
  },
  {
   "cell_type": "code",
   "execution_count": null,
   "metadata": {
    "collapsed": false
   },
   "outputs": [],
   "source": [
    "# Replace audio tag sources with corresponding mp3s\n",
    "# (assumes that we have them all numbered from 0 to n-1 for n sources)\n",
    "for i,m in enumerate(matches):\n",
    "    mp3_filepath = os.path.join(data_dir, \"{}.{}\".format(i, data_ext))\n",
    "    audio_tag = '<audio controls=\"controls\"><source src=\"{}\" type=\"audio/mp3\" />'.format(mp3_filepath)\n",
    "    # print(audio_tag)\n",
    "    # print(m[:100])\n",
    "    \n",
    "    html = html.replace(m, audio_tag)\n",
    "len(html)"
   ]
  },
  {
   "cell_type": "code",
   "execution_count": null,
   "metadata": {
    "collapsed": false
   },
   "outputs": [],
   "source": [
    "# Replace fig path if necessary\n",
    "# Unnecessary if using export_with_figs now\n",
    "html = html.replace('img src=\"output', 'img src=\"{}/output'.format(fig_path))\n",
    "len(html)"
   ]
  },
  {
   "cell_type": "code",
   "execution_count": null,
   "metadata": {
    "collapsed": false
   },
   "outputs": [],
   "source": [
    "# Update title if necessary\n",
    "html = re.sub(\"<title>.*</title>\", \"<title>{}</title>\".format(out_title), html)\n",
    "len(html)"
   ]
  },
  {
   "cell_type": "code",
   "execution_count": null,
   "metadata": {
    "collapsed": true
   },
   "outputs": [],
   "source": [
    "# Update data path\n",
    "html = html.replace(\"../data\", \"data\")"
   ]
  },
  {
   "cell_type": "code",
   "execution_count": null,
   "metadata": {
    "collapsed": true
   },
   "outputs": [],
   "source": [
    "with open(out_filepath, \"w\") as f:\n",
    "    f.write(html)"
   ]
  },
  {
   "cell_type": "code",
   "execution_count": null,
   "metadata": {
    "collapsed": true
   },
   "outputs": [],
   "source": []
  }
 ],
 "metadata": {
  "kernelspec": {
   "display_name": "Python 2",
   "language": "python",
   "name": "python2"
  },
  "language_info": {
   "codemirror_mode": {
    "name": "ipython",
    "version": 2
   },
   "file_extension": ".py",
   "mimetype": "text/x-python",
   "name": "python",
   "nbconvert_exporter": "python",
   "pygments_lexer": "ipython2",
   "version": "2.7.13"
  }
 },
 "nbformat": 4,
 "nbformat_minor": 2
}
